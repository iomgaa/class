{
 "cells": [
  {
   "cell_type": "markdown",
   "metadata": {},
   "source": [
    "# python one\n",
    "    我主要是对比着C来讲python，希望各位的C还没有忘。"
   ]
  },
  {
   "cell_type": "markdown",
   "metadata": {},
   "source": [
    "## 1.函数库的导入"
   ]
  },
  {
   "cell_type": "code",
   "execution_count": 1,
   "metadata": {
    "collapsed": true
   },
   "outputs": [],
   "source": [
    "import numpy"
   ]
  },
  {
   "cell_type": "markdown",
   "metadata": {},
   "source": [
    "### C语言\n",
    "    include <stdio.h>\n",
    "    \n",
    "    在python中大部分的函数是不需要导入的，所以在最基础的学习中其实你们一般用不到import。不过这个东西依然很重要，因为在后期的学习中经常需要导入库函数"
   ]
  },
  {
   "cell_type": "markdown",
   "metadata": {},
   "source": [
    "## 2.主函数\n",
    "    python中其实没有非常严谨的主函数的概念，所以你们在写代码时就不需要遵守C的那八股文了。\n",
    "### C语言\n",
    "    main（）\n",
    "{\n",
    "    \n",
    "}    "
   ]
  },
  {
   "cell_type": "markdown",
   "metadata": {},
   "source": [
    "## 3.变量"
   ]
  },
  {
   "cell_type": "code",
   "execution_count": 8,
   "metadata": {
    "collapsed": true
   },
   "outputs": [],
   "source": [
    "a=1\n",
    "b=2.0\n",
    "c='3'\n",
    "d=\"ycz\""
   ]
  },
  {
   "cell_type": "code",
   "execution_count": 9,
   "metadata": {
    "collapsed": false
   },
   "outputs": [
    {
     "name": "stdout",
     "output_type": "stream",
     "text": [
      "<class 'int'>\n",
      "<class 'float'>\n",
      "<class 'str'>\n",
      "<class 'str'>\n"
     ]
    }
   ],
   "source": [
    "print(type(a))\n",
    "print(type(b))\n",
    "print(type(c))\n",
    "print(type(d))"
   ]
  },
  {
   "cell_type": "markdown",
   "metadata": {},
   "source": [
    "### C语言\n",
    "    int a=1;\n",
    "    float b=2.0;\n",
    "    char c='3';\n",
    "    str d=\"ycz\"\n",
    "    \n",
    "    在python中定义变量时不需要在前面写清楚数据类型，程序会自动根据你的输入判断变量类型\n",
    "    python的变量类型和C差不多，int float str都有\n",
    "    python中每行代码后面不需要跟；\n",
    "    \n",
    "***注意***\n",
    "* python对''以及\"\"没有区分，都是一样的意思，同时python中也没有char只有str"
   ]
  },
  {
   "cell_type": "markdown",
   "metadata": {},
   "source": [
    "## 4.输出（print）"
   ]
  },
  {
   "cell_type": "code",
   "execution_count": 12,
   "metadata": {
    "collapsed": false
   },
   "outputs": [
    {
     "name": "stdout",
     "output_type": "stream",
     "text": [
      "ycz\n"
     ]
    }
   ],
   "source": [
    "print(\"ycz\")  # 输出字符串"
   ]
  },
  {
   "cell_type": "markdown",
   "metadata": {},
   "source": [
    "（c）print（\"ycz\"）"
   ]
  },
  {
   "cell_type": "code",
   "execution_count": 14,
   "metadata": {
    "collapsed": false
   },
   "outputs": [
    {
     "name": "stdout",
     "output_type": "stream",
     "text": [
      "100\n"
     ]
    }
   ],
   "source": [
    "print(100)# 输出数字"
   ]
  },
  {
   "cell_type": "code",
   "execution_count": 15,
   "metadata": {
    "collapsed": false
   },
   "outputs": [
    {
     "name": "stdout",
     "output_type": "stream",
     "text": [
      "ycz\n"
     ]
    }
   ],
   "source": [
    "a=\"ycz\"\n",
    "print(a)#输出变量"
   ]
  },
  {
   "cell_type": "code",
   "execution_count": 16,
   "metadata": {
    "collapsed": false
   },
   "outputs": [
    {
     "name": "stdout",
     "output_type": "stream",
     "text": [
      "[1, 2, 'a']\n"
     ]
    }
   ],
   "source": [
    "L = [1,2,'a'] \n",
    "print(L)#输出列表"
   ]
  },
  {
   "cell_type": "code",
   "execution_count": 20,
   "metadata": {
    "collapsed": false
   },
   "outputs": [
    {
     "name": "stdout",
     "output_type": "stream",
     "text": [
      "ycz win the game\n"
     ]
    }
   ],
   "source": [
    "a='ycz'\n",
    "b='game'\n",
    "print(\"%s win the %s\" %(a,b))"
   ]
  },
  {
   "cell_type": "markdown",
   "metadata": {},
   "source": [
    "(c)\n",
    "\n",
    "str a=\"ycz\";\n",
    "\n",
    "str b=\"game\";\n",
    "\n",
    "print(\"%s win %s\",%a,%b);"
   ]
  },
  {
   "cell_type": "code",
   "execution_count": 23,
   "metadata": {
    "collapsed": false
   },
   "outputs": [
    {
     "name": "stdout",
     "output_type": "stream",
     "text": [
      "0\n",
      "1\n",
      "2\n",
      "3\n",
      "4\n",
      "5\n"
     ]
    }
   ],
   "source": [
    "for i in range (6):\n",
    "    print(i)"
   ]
  },
  {
   "cell_type": "code",
   "execution_count": 24,
   "metadata": {
    "collapsed": false
   },
   "outputs": [
    {
     "name": "stdout",
     "output_type": "stream",
     "text": [
      "0 1 2 3 4 5 "
     ]
    }
   ],
   "source": [
    "for i in range (6):\n",
    "    print(i,end=' ')"
   ]
  },
  {
   "cell_type": "markdown",
   "metadata": {},
   "source": [
    "(c)\n",
    "\n",
    "print(\"1\\n\");"
   ]
  },
  {
   "cell_type": "markdown",
   "metadata": {},
   "source": [
    "在python中是默认换行的，所以不需要像C那样输\\n,如果想不换行，在后面输入，end=' '表示其结尾接的不是\\n而是 "
   ]
  },
  {
   "cell_type": "markdown",
   "metadata": {},
   "source": [
    "[更多pirint内容]（https://www.runoob.com/w3cnote/python3-print-func-b.html）"
   ]
  },
  {
   "cell_type": "markdown",
   "metadata": {},
   "source": [
    "# 5.if"
   ]
  },
  {
   "cell_type": "code",
   "execution_count": 25,
   "metadata": {
    "collapsed": false
   },
   "outputs": [
    {
     "name": "stdout",
     "output_type": "stream",
     "text": [
      "ok\n"
     ]
    }
   ],
   "source": [
    "a=77\n",
    "if a<60:\n",
    "    print(\"no\")\n",
    "elif a<80:\n",
    "    print(\"ok\")\n",
    "else:\n",
    "    print(\"good\")"
   ]
  },
  {
   "cell_type": "markdown",
   "metadata": {},
   "source": [
    "(c)\n",
    "\n",
    "int a=77;\n",
    "\n",
    "if（a<60）\n",
    "\n",
    "{\n",
    "\n",
    "print(\"no\")\n",
    "\n",
    "}\n",
    "\n",
    "else\n",
    "\n",
    "{\n",
    "\n",
    "if(a<80)\n",
    "\n",
    "print(\"ok\")\n",
    "\n",
    "else\n",
    "\n",
    "print(\"good\")\n",
    "\n",
    "}"
   ]
  },
  {
   "cell_type": "markdown",
   "metadata": {},
   "source": [
    "    在python中代码块通过空格来表示，C通过{}\n",
    "    python中有elif，表示如果if条件不成立情况下elif条件成立的情况"
   ]
  },
  {
   "cell_type": "markdown",
   "metadata": {},
   "source": [
    "[更多if内容]（https://www.runoob.com/?s=if）"
   ]
  },
  {
   "cell_type": "markdown",
   "metadata": {},
   "source": [
    "# 6.for循环"
   ]
  },
  {
   "cell_type": "code",
   "execution_count": 27,
   "metadata": {
    "collapsed": false
   },
   "outputs": [
    {
     "name": "stdout",
     "output_type": "stream",
     "text": [
      "0\n",
      "1\n",
      "2\n",
      "3\n",
      "4\n",
      "5\n"
     ]
    }
   ],
   "source": [
    "for i in range (6):\n",
    "    print(i)"
   ]
  },
  {
   "cell_type": "markdown",
   "metadata": {},
   "source": [
    "    for循环后面跟着一个数组"
   ]
  },
  {
   "cell_type": "markdown",
   "metadata": {},
   "source": [
    "[更多for内容]（https://www.runoob.com/python/python-for-loop.html）"
   ]
  },
  {
   "cell_type": "markdown",
   "metadata": {},
   "source": [
    "# 作业\n",
    "通过python编写程序验证pi值在3.140-3.142之间"
   ]
  },
  {
   "cell_type": "code",
   "execution_count": null,
   "metadata": {
    "collapsed": true
   },
   "outputs": [],
   "source": []
  }
 ],
 "metadata": {
  "kernelspec": {
   "display_name": "Python 3",
   "language": "python",
   "name": "python3"
  },
  "language_info": {
   "codemirror_mode": {
    "name": "ipython",
    "version": 3
   },
   "file_extension": ".py",
   "mimetype": "text/x-python",
   "name": "python",
   "nbconvert_exporter": "python",
   "pygments_lexer": "ipython3",
   "version": "3.6.0"
  }
 },
 "nbformat": 4,
 "nbformat_minor": 2
}
